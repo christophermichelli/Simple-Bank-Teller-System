{
  "nbformat": 4,
  "nbformat_minor": 0,
  "metadata": {
    "colab": {
      "provenance": []
    },
    "kernelspec": {
      "name": "python3",
      "display_name": "Python 3"
    },
    "language_info": {
      "name": "python"
    }
  },
  "cells": [
    {
      "cell_type": "markdown",
      "source": [
        "Practical Scenario: Simulating a Bank Teller System\n",
        "Imagine you’re building a small program to mimic the functionality of a bank teller system. The purpose of this system is to give users the ability to interact with their bank account through a simple menu-driven interface.\n",
        "\n",
        "This program will serve as an interactive learning exercise for Python syntax and concepts. It incorporates key programming fundamentals such as comments, indentation, variables, constants, data types, and input/output to create a realistic yet easy-to-understand application."
      ],
      "metadata": {
        "id": "dXS-CWMWaXcF"
      }
    },
    {
      "cell_type": "code",
      "execution_count": null,
      "metadata": {
        "id": "xMzu8hFSZnDc"
      },
      "outputs": [],
      "source": [
        "# Block 1: Importing necessary modules and defining constants\n",
        "# Importing the Final annotation from the typing module\n",
        "# The Final annotation is used to define constants that should not change\n",
        "from typing import Final\n",
        "\n",
        "# Defining a constant for the bank name\n",
        "BANK_NAME: Final = \"Monmouth Bank\"  # This constant stores the name of the bank\n",
        "\n",
        "# Defining a constant for the initial account balance\n",
        "INITIAL_BALANCE: Final = 1000.00  # This constant sets the starting balance for the account\n"
      ]
    },
    {
      "cell_type": "code",
      "source": [
        "# Block 2: Setting up variables for account information\n",
        "# Variables are used to store data that can change during the program's execution\n",
        "\n",
        "# Variable to store the name of the account holder\n",
        "account_holder = \"John Doe\"  # This variable holds the customer's name\n",
        "\n",
        "# Variable to store the account balance\n",
        "account_balance = INITIAL_BALANCE  # The account balance is initialized with the constant value\n"
      ],
      "metadata": {
        "id": "b3uvVPKHZwzA"
      },
      "execution_count": null,
      "outputs": []
    },
    {
      "cell_type": "code",
      "source": [
        "# Block 3: Displaying welcome message using constants and variables\n",
        "# Output messages are displayed using the print() function\n",
        "\n",
        "# Greeting the user with a personalized message\n",
        "print(f\"Welcome to {BANK_NAME}, {account_holder}!\")  # Using formatted strings to include variables\n",
        "print(f\"Your current account balance is: ${account_balance:.2f}\")  # Displaying the balance with 2 decimal places\n"
      ],
      "metadata": {
        "colab": {
          "base_uri": "https://localhost:8080/"
        },
        "id": "13avQxVXZzIv",
        "outputId": "6d07e2fd-f17a-448f-cfde-1cf9b88b32d5"
      },
      "execution_count": null,
      "outputs": [
        {
          "output_type": "stream",
          "name": "stdout",
          "text": [
            "Welcome to Monmouth Bank, John Doe!\n",
            "Your current account balance is: $1000.00\n"
          ]
        }
      ]
    },
    {
      "cell_type": "code",
      "source": [
        "# Block 4: Simulating a simple deposit operation\n",
        "# Taking user input and updating the account balance\n",
        "\n",
        "# Asking the user to enter the amount they want to deposit\n",
        "deposit_amount = float(input(\"Enter the amount to deposit: \"))  # input() returns a string, so it's converted to a float\n",
        "\n",
        "# Displaying the deposit confirmation\n",
        "print(f\"You have successfully deposited: ${deposit_amount:.2f}\")  # Displaying the amount the user entered\n"
      ],
      "metadata": {
        "colab": {
          "base_uri": "https://localhost:8080/"
        },
        "id": "64LQxcxeZ4c2",
        "outputId": "3d5efdbd-0dfe-474a-fbc0-4663713995c7"
      },
      "execution_count": null,
      "outputs": [
        {
          "output_type": "stream",
          "name": "stdout",
          "text": [
            "Enter the amount to deposit: 10\n",
            "You have successfully deposited: $10.00\n"
          ]
        }
      ]
    },
    {
      "cell_type": "code",
      "source": [
        "# Block 5: Calculating the new account balance\n",
        "# Updating the account balance by adding the deposit amount to the initial balance\n",
        "\n",
        "new_balance = account_balance + deposit_amount  # Adding the deposit amount to the initial balance\n",
        "\n",
        "# Displaying the updated account balance\n",
        "print(f\"Your new account balance is: ${new_balance:.2f}\")  # Displaying the new balance with 2 decimal places\n"
      ],
      "metadata": {
        "colab": {
          "base_uri": "https://localhost:8080/"
        },
        "id": "TR1AUvCSZ7eR",
        "outputId": "2b909a7f-df33-40e9-c181-d28e53dce6f3"
      },
      "execution_count": null,
      "outputs": [
        {
          "output_type": "stream",
          "name": "stdout",
          "text": [
            "Your new account balance is: $1010.00\n"
          ]
        }
      ]
    },
    {
      "cell_type": "markdown",
      "source": [
        "Explanation of the Program\n",
        "Constants:\n",
        "\n",
        "BANK_NAME: Stores the name of the bank and does not change during the program.\n",
        "INITIAL_BALANCE: Represents the starting account balance for the user.\n",
        "Variables:\n",
        "\n",
        "account_holder: Stores the name of the account holder.\n",
        "account_balance: Holds the user's current balance and is initialized with the value of INITIAL_BALANCE.\n",
        "deposit_amount: Captures the amount entered by the user to deposit.\n",
        "new_balance: Calculates the updated account balance after the deposit.\n",
        "Input and Output:\n",
        "\n",
        "The program uses input() to take user input for the deposit amount.\n",
        "The print() function is used to display messages and the updated balance."
      ],
      "metadata": {
        "id": "zuyIIYq2aAXt"
      }
    },
    {
      "cell_type": "markdown",
      "source": [
        "![image.png](data:image/png;base64,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)"
      ],
      "metadata": {
        "id": "izp4zi_iaG-0"
      }
    }
  ]
}